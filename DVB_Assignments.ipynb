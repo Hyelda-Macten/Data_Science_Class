{
 "cells": [
  {
   "cell_type": "code",
   "execution_count": 1,
   "id": "2a5f077a-9292-4cae-a068-2dfe39575e43",
   "metadata": {},
   "outputs": [],
   "source": [
    "import numpy as np\n",
    "import pandas as pd\n",
    "import matplotlib.pyplot as plt\n",
    "import seaborn as sns\n",
    "import plotly.express as px"
   ]
  },
  {
   "cell_type": "code",
   "execution_count": 2,
   "id": "c7b91a0d-2a2b-46f1-87a2-8da9e6a723c9",
   "metadata": {
    "scrolled": true
   },
   "outputs": [
    {
     "data": {
      "text/html": [
       "<div>\n",
       "<style scoped>\n",
       "    .dataframe tbody tr th:only-of-type {\n",
       "        vertical-align: middle;\n",
       "    }\n",
       "\n",
       "    .dataframe tbody tr th {\n",
       "        vertical-align: top;\n",
       "    }\n",
       "\n",
       "    .dataframe thead th {\n",
       "        text-align: right;\n",
       "    }\n",
       "</style>\n",
       "<table border=\"1\" class=\"dataframe\">\n",
       "  <thead>\n",
       "    <tr style=\"text-align: right;\">\n",
       "      <th></th>\n",
       "      <th>Unnamed: 0</th>\n",
       "      <th>Title</th>\n",
       "      <th>Release Date</th>\n",
       "      <th>Description</th>\n",
       "      <th>Rating</th>\n",
       "      <th>No of Persons Voted</th>\n",
       "      <th>Directed by</th>\n",
       "      <th>Written by</th>\n",
       "      <th>Duration</th>\n",
       "      <th>Genres</th>\n",
       "    </tr>\n",
       "  </thead>\n",
       "  <tbody>\n",
       "    <tr>\n",
       "      <th>0</th>\n",
       "      <td>0</td>\n",
       "      <td>Dekalog (1988)</td>\n",
       "      <td>Mar 22, 1996</td>\n",
       "      <td>This masterwork by Krzysztof Kieślowski is one...</td>\n",
       "      <td>7.4</td>\n",
       "      <td>118</td>\n",
       "      <td>Krzysztof Kieslowski</td>\n",
       "      <td>Krzysztof Kieslowski, Krzysztof Piesiewicz</td>\n",
       "      <td>9 h 32 m</td>\n",
       "      <td>Drama</td>\n",
       "    </tr>\n",
       "    <tr>\n",
       "      <th>1</th>\n",
       "      <td>1</td>\n",
       "      <td>Three Colors: Red</td>\n",
       "      <td>Nov 23, 1994</td>\n",
       "      <td>Krzysztof Kieslowski closes his Three Colors t...</td>\n",
       "      <td>8.3</td>\n",
       "      <td>241</td>\n",
       "      <td>Krzysztof Kieslowski</td>\n",
       "      <td>Krzysztof Kieslowski, Krzysztof Piesiewicz, Ag...</td>\n",
       "      <td>1 h 39 m</td>\n",
       "      <td>Drama,Mystery,Romance</td>\n",
       "    </tr>\n",
       "    <tr>\n",
       "      <th>2</th>\n",
       "      <td>2</td>\n",
       "      <td>The Conformist</td>\n",
       "      <td>Oct 22, 1970</td>\n",
       "      <td>Set in Rome in the 1930s, this re-release of B...</td>\n",
       "      <td>7.3</td>\n",
       "      <td>106</td>\n",
       "      <td>Bernardo Bertolucci</td>\n",
       "      <td>Alberto Moravia, Bernardo Bertolucci</td>\n",
       "      <td>1 h 47 m</td>\n",
       "      <td>Drama</td>\n",
       "    </tr>\n",
       "    <tr>\n",
       "      <th>3</th>\n",
       "      <td>3</td>\n",
       "      <td>Tokyo Story</td>\n",
       "      <td>Mar 13, 1972</td>\n",
       "      <td>Yasujiro Ozu’s Tokyo Story follows an aging co...</td>\n",
       "      <td>8.1</td>\n",
       "      <td>147</td>\n",
       "      <td>Yasujirô Ozu</td>\n",
       "      <td>Kôgo Noda, Yasujirô Ozu</td>\n",
       "      <td>2 h 16 m</td>\n",
       "      <td>Drama</td>\n",
       "    </tr>\n",
       "    <tr>\n",
       "      <th>4</th>\n",
       "      <td>4</td>\n",
       "      <td>The Leopard (re-release)</td>\n",
       "      <td>Aug 13, 2004</td>\n",
       "      <td>Set in Sicily in 1860, Luchino Visconti's spec...</td>\n",
       "      <td>7.8</td>\n",
       "      <td>85</td>\n",
       "      <td>Luchino Visconti</td>\n",
       "      <td>Giuseppe Tomasi di Lampedusa, Suso Cecchi D'Am...</td>\n",
       "      <td>3 h 7 m</td>\n",
       "      <td>Drama,History</td>\n",
       "    </tr>\n",
       "  </tbody>\n",
       "</table>\n",
       "</div>"
      ],
      "text/plain": [
       "   Unnamed: 0                     Title  Release Date  \\\n",
       "0           0            Dekalog (1988)  Mar 22, 1996   \n",
       "1           1         Three Colors: Red  Nov 23, 1994   \n",
       "2           2            The Conformist  Oct 22, 1970   \n",
       "3           3               Tokyo Story  Mar 13, 1972   \n",
       "4           4  The Leopard (re-release)  Aug 13, 2004   \n",
       "\n",
       "                                         Description  Rating  \\\n",
       "0  This masterwork by Krzysztof Kieślowski is one...     7.4   \n",
       "1  Krzysztof Kieslowski closes his Three Colors t...     8.3   \n",
       "2  Set in Rome in the 1930s, this re-release of B...     7.3   \n",
       "3  Yasujiro Ozu’s Tokyo Story follows an aging co...     8.1   \n",
       "4  Set in Sicily in 1860, Luchino Visconti's spec...     7.8   \n",
       "\n",
       "  No of Persons Voted           Directed by  \\\n",
       "0                 118  Krzysztof Kieslowski   \n",
       "1                 241  Krzysztof Kieslowski   \n",
       "2                 106   Bernardo Bertolucci   \n",
       "3                 147          Yasujirô Ozu   \n",
       "4                  85      Luchino Visconti   \n",
       "\n",
       "                                          Written by  Duration  \\\n",
       "0         Krzysztof Kieslowski, Krzysztof Piesiewicz  9 h 32 m   \n",
       "1  Krzysztof Kieslowski, Krzysztof Piesiewicz, Ag...  1 h 39 m   \n",
       "2               Alberto Moravia, Bernardo Bertolucci  1 h 47 m   \n",
       "3                            Kôgo Noda, Yasujirô Ozu  2 h 16 m   \n",
       "4  Giuseppe Tomasi di Lampedusa, Suso Cecchi D'Am...   3 h 7 m   \n",
       "\n",
       "                  Genres  \n",
       "0                  Drama  \n",
       "1  Drama,Mystery,Romance  \n",
       "2                  Drama  \n",
       "3                  Drama  \n",
       "4          Drama,History  "
      ]
     },
     "execution_count": 2,
     "metadata": {},
     "output_type": "execute_result"
    }
   ],
   "source": [
    "df = pd.read_csv('16k_Movies.csv')\n",
    "df.head()"
   ]
  },
  {
   "cell_type": "code",
   "execution_count": 3,
   "id": "17a01866-49ed-4ad4-92f9-500d31e87c2a",
   "metadata": {},
   "outputs": [
    {
     "data": {
      "text/html": [
       "<div>\n",
       "<style scoped>\n",
       "    .dataframe tbody tr th:only-of-type {\n",
       "        vertical-align: middle;\n",
       "    }\n",
       "\n",
       "    .dataframe tbody tr th {\n",
       "        vertical-align: top;\n",
       "    }\n",
       "\n",
       "    .dataframe thead th {\n",
       "        text-align: right;\n",
       "    }\n",
       "</style>\n",
       "<table border=\"1\" class=\"dataframe\">\n",
       "  <thead>\n",
       "    <tr style=\"text-align: right;\">\n",
       "      <th></th>\n",
       "      <th>Unnamed: 0</th>\n",
       "      <th>Rating</th>\n",
       "    </tr>\n",
       "  </thead>\n",
       "  <tbody>\n",
       "    <tr>\n",
       "      <th>count</th>\n",
       "      <td>16290.000000</td>\n",
       "      <td>12846.000000</td>\n",
       "    </tr>\n",
       "    <tr>\n",
       "      <th>mean</th>\n",
       "      <td>8144.500000</td>\n",
       "      <td>6.617632</td>\n",
       "    </tr>\n",
       "    <tr>\n",
       "      <th>std</th>\n",
       "      <td>4702.662278</td>\n",
       "      <td>1.415272</td>\n",
       "    </tr>\n",
       "    <tr>\n",
       "      <th>min</th>\n",
       "      <td>0.000000</td>\n",
       "      <td>0.300000</td>\n",
       "    </tr>\n",
       "    <tr>\n",
       "      <th>25%</th>\n",
       "      <td>4072.250000</td>\n",
       "      <td>5.800000</td>\n",
       "    </tr>\n",
       "    <tr>\n",
       "      <th>50%</th>\n",
       "      <td>8144.500000</td>\n",
       "      <td>6.800000</td>\n",
       "    </tr>\n",
       "    <tr>\n",
       "      <th>75%</th>\n",
       "      <td>12216.750000</td>\n",
       "      <td>7.600000</td>\n",
       "    </tr>\n",
       "    <tr>\n",
       "      <th>max</th>\n",
       "      <td>16289.000000</td>\n",
       "      <td>10.000000</td>\n",
       "    </tr>\n",
       "  </tbody>\n",
       "</table>\n",
       "</div>"
      ],
      "text/plain": [
       "         Unnamed: 0        Rating\n",
       "count  16290.000000  12846.000000\n",
       "mean    8144.500000      6.617632\n",
       "std     4702.662278      1.415272\n",
       "min        0.000000      0.300000\n",
       "25%     4072.250000      5.800000\n",
       "50%     8144.500000      6.800000\n",
       "75%    12216.750000      7.600000\n",
       "max    16289.000000     10.000000"
      ]
     },
     "execution_count": 3,
     "metadata": {},
     "output_type": "execute_result"
    }
   ],
   "source": [
    "df.describe()"
   ]
  },
  {
   "cell_type": "code",
   "execution_count": 4,
   "id": "ed51e759-6bee-44f8-8be0-aaf6f8073396",
   "metadata": {},
   "outputs": [
    {
     "data": {
      "text/html": [
       "<div>\n",
       "<style scoped>\n",
       "    .dataframe tbody tr th:only-of-type {\n",
       "        vertical-align: middle;\n",
       "    }\n",
       "\n",
       "    .dataframe tbody tr th {\n",
       "        vertical-align: top;\n",
       "    }\n",
       "\n",
       "    .dataframe thead th {\n",
       "        text-align: right;\n",
       "    }\n",
       "</style>\n",
       "<table border=\"1\" class=\"dataframe\">\n",
       "  <thead>\n",
       "    <tr style=\"text-align: right;\">\n",
       "      <th></th>\n",
       "      <th>0</th>\n",
       "      <th>1</th>\n",
       "    </tr>\n",
       "  </thead>\n",
       "  <tbody>\n",
       "    <tr>\n",
       "      <th>Unnamed: 0</th>\n",
       "      <td>0</td>\n",
       "      <td>0.000000</td>\n",
       "    </tr>\n",
       "    <tr>\n",
       "      <th>Title</th>\n",
       "      <td>0</td>\n",
       "      <td>0.000000</td>\n",
       "    </tr>\n",
       "    <tr>\n",
       "      <th>Release Date</th>\n",
       "      <td>0</td>\n",
       "      <td>0.000000</td>\n",
       "    </tr>\n",
       "    <tr>\n",
       "      <th>Description</th>\n",
       "      <td>0</td>\n",
       "      <td>0.000000</td>\n",
       "    </tr>\n",
       "    <tr>\n",
       "      <th>Rating</th>\n",
       "      <td>3444</td>\n",
       "      <td>21.141805</td>\n",
       "    </tr>\n",
       "    <tr>\n",
       "      <th>No of Persons Voted</th>\n",
       "      <td>3461</td>\n",
       "      <td>21.246163</td>\n",
       "    </tr>\n",
       "    <tr>\n",
       "      <th>Directed by</th>\n",
       "      <td>7</td>\n",
       "      <td>0.042971</td>\n",
       "    </tr>\n",
       "    <tr>\n",
       "      <th>Written by</th>\n",
       "      <td>963</td>\n",
       "      <td>5.911602</td>\n",
       "    </tr>\n",
       "    <tr>\n",
       "      <th>Duration</th>\n",
       "      <td>13</td>\n",
       "      <td>0.079804</td>\n",
       "    </tr>\n",
       "    <tr>\n",
       "      <th>Genres</th>\n",
       "      <td>5</td>\n",
       "      <td>0.030694</td>\n",
       "    </tr>\n",
       "  </tbody>\n",
       "</table>\n",
       "</div>"
      ],
      "text/plain": [
       "                        0          1\n",
       "Unnamed: 0              0   0.000000\n",
       "Title                   0   0.000000\n",
       "Release Date            0   0.000000\n",
       "Description             0   0.000000\n",
       "Rating               3444  21.141805\n",
       "No of Persons Voted  3461  21.246163\n",
       "Directed by             7   0.042971\n",
       "Written by            963   5.911602\n",
       "Duration               13   0.079804\n",
       "Genres                  5   0.030694"
      ]
     },
     "execution_count": 4,
     "metadata": {},
     "output_type": "execute_result"
    }
   ],
   "source": [
    "#1. What percentage of missing or null values exist in key columns such as Description, Directed by, and Written by?\n",
    "#   How would you handle these missing values?\n",
    "missing_value_per = (df.isnull().sum()/len(df))*100\n",
    "total_missing = df.isnull().sum()\n",
    "missing_value_outcome = pd.concat([total_missing,missing_value_per],axis=1)\n",
    "missing_value_outcome"
   ]
  },
  {
   "cell_type": "code",
   "execution_count": 5,
   "id": "d656d3d8-efe6-4078-b498-20d5e322e490",
   "metadata": {},
   "outputs": [
    {
     "name": "stdout",
     "output_type": "stream",
     "text": [
      "mean 6.617631947687997\n",
      "median 6.8\n",
      "standard_deviation 1.4152722123673525\n",
      "minimum 0.3\n",
      "maximum 10.0\n"
     ]
    }
   ],
   "source": [
    "#2. Perform a summary of basic statistics (mean, median, standard deviation, min, and max) for the Rating column. \n",
    "#   Identify any outliers in movie ratings using statistical methods such as Z-scores or IQR.\n",
    "print('mean',df['Rating'].mean())\n",
    "print('median',df['Rating'].median())\n",
    "print('standard_deviation',df['Rating'].std())\n",
    "print('minimum',df['Rating'].min())\n",
    "print('maximum',df['Rating'].max())"
   ]
  },
  {
   "cell_type": "code",
   "execution_count": 6,
   "id": "0a18a046-054a-4aac-a604-a87f8ac4a96d",
   "metadata": {},
   "outputs": [
    {
     "data": {
      "text/plain": [
       "count    12846.000000\n",
       "mean         6.617632\n",
       "std          1.415272\n",
       "min          0.300000\n",
       "25%          5.800000\n",
       "50%          6.800000\n",
       "75%          7.600000\n",
       "max         10.000000\n",
       "Name: Rating, dtype: float64"
      ]
     },
     "execution_count": 6,
     "metadata": {},
     "output_type": "execute_result"
    }
   ],
   "source": [
    "df['Rating'].describe()"
   ]
  },
  {
   "cell_type": "code",
   "execution_count": 7,
   "id": "a32b3bd6-8ae7-4f2e-9a6b-c452f0c18ba2",
   "metadata": {},
   "outputs": [
    {
     "name": "stdout",
     "output_type": "stream",
     "text": [
      "Empty DataFrame\n",
      "Columns: [Unnamed: 0, Title, Release Date, Description, Rating, No of Persons Voted, Directed by, Written by, Duration, Genres]\n",
      "Index: []\n"
     ]
    }
   ],
   "source": [
    "#   Identify any outliers in movie ratings using statistical methods such as Z-scores or IQR.\n",
    "from scipy import stats\n",
    "z_scores = stats.zscore(df['Rating'])\n",
    "outliers = df[(z_scores > 9) | (z_scores < -9)]\n",
    "print(outliers)\n"
   ]
  },
  {
   "cell_type": "code",
   "execution_count": 8,
   "id": "13c3fa2d-1922-41db-879d-28bdb899e5d8",
   "metadata": {},
   "outputs": [
    {
     "name": "stdout",
     "output_type": "stream",
     "text": [
      "Empty DataFrame\n",
      "Columns: [Unnamed: 0, Title, Release Date, Description, Rating, No of Persons Voted, Directed by, Written by, Duration, Genres]\n",
      "Index: []\n"
     ]
    }
   ],
   "source": [
    "# IQR \n",
    "Q1 = df['Rating'].quantile(0.25)\n",
    "Q9 = df['Rating'].quantile(0.75)\n",
    "IQR = Q9 - Q1\n",
    "\n",
    "lower_bound = Q1 - 4.5*IQR\n",
    "upper_bound = Q9 + 4.5*IQR\n",
    "outliers_s = df[(df['Rating'] < lower_bound) | (df['Rating'] > upper_bound)]\n",
    "print(outliers_s)"
   ]
  },
  {
   "cell_type": "code",
   "execution_count": 9,
   "id": "737ab29f-2e73-498d-aea2-16b73a21f7d4",
   "metadata": {},
   "outputs": [
    {
     "data": {
      "text/plain": [
       "1663"
      ]
     },
     "execution_count": 9,
     "metadata": {},
     "output_type": "execute_result"
    }
   ],
   "source": [
    "#3. How many unique genres exist in the dataset? What are the most common genres over time?\n",
    "df['Genres'].nunique()"
   ]
  },
  {
   "cell_type": "code",
   "execution_count": 10,
   "id": "374641b7-2966-491e-818b-4a6a91d43563",
   "metadata": {},
   "outputs": [
    {
     "data": {
      "text/plain": [
       "array(['Drama', 'Drama,Mystery,Romance', 'Drama,History', ...,\n",
       "       'Action,Adventure,Horror', 'Drama,Crime,Action',\n",
       "       'Comedy,Crime,Family,Sci-Fi'], dtype=object)"
      ]
     },
     "execution_count": 10,
     "metadata": {},
     "output_type": "execute_result"
    }
   ],
   "source": [
    "df['Genres'].unique()"
   ]
  },
  {
   "cell_type": "code",
   "execution_count": 11,
   "id": "8073ee1f-b2b4-434a-9477-0502de8689cd",
   "metadata": {
    "scrolled": true
   },
   "outputs": [
    {
     "data": {
      "text/html": [
       "<div>\n",
       "<style scoped>\n",
       "    .dataframe tbody tr th:only-of-type {\n",
       "        vertical-align: middle;\n",
       "    }\n",
       "\n",
       "    .dataframe tbody tr th {\n",
       "        vertical-align: top;\n",
       "    }\n",
       "\n",
       "    .dataframe thead th {\n",
       "        text-align: right;\n",
       "    }\n",
       "</style>\n",
       "<table border=\"1\" class=\"dataframe\">\n",
       "  <thead>\n",
       "    <tr style=\"text-align: right;\">\n",
       "      <th></th>\n",
       "      <th>Unnamed: 0</th>\n",
       "      <th>Title</th>\n",
       "      <th>Release Date</th>\n",
       "      <th>Description</th>\n",
       "      <th>Rating</th>\n",
       "      <th>No of Persons Voted</th>\n",
       "      <th>Directed by</th>\n",
       "      <th>Written by</th>\n",
       "      <th>Duration</th>\n",
       "      <th>Genres</th>\n",
       "      <th>Release_Year</th>\n",
       "      <th>Release_Month</th>\n",
       "    </tr>\n",
       "  </thead>\n",
       "  <tbody>\n",
       "    <tr>\n",
       "      <th>0</th>\n",
       "      <td>0</td>\n",
       "      <td>Dekalog (1988)</td>\n",
       "      <td>1996-03-22</td>\n",
       "      <td>This masterwork by Krzysztof Kieślowski is one...</td>\n",
       "      <td>7.4</td>\n",
       "      <td>118</td>\n",
       "      <td>Krzysztof Kieslowski</td>\n",
       "      <td>Krzysztof Kieslowski, Krzysztof Piesiewicz</td>\n",
       "      <td>9 h 32 m</td>\n",
       "      <td>Drama</td>\n",
       "      <td>1996</td>\n",
       "      <td>3</td>\n",
       "    </tr>\n",
       "    <tr>\n",
       "      <th>1</th>\n",
       "      <td>1</td>\n",
       "      <td>Three Colors: Red</td>\n",
       "      <td>1994-11-23</td>\n",
       "      <td>Krzysztof Kieslowski closes his Three Colors t...</td>\n",
       "      <td>8.3</td>\n",
       "      <td>241</td>\n",
       "      <td>Krzysztof Kieslowski</td>\n",
       "      <td>Krzysztof Kieslowski, Krzysztof Piesiewicz, Ag...</td>\n",
       "      <td>1 h 39 m</td>\n",
       "      <td>Drama,Mystery,Romance</td>\n",
       "      <td>1994</td>\n",
       "      <td>11</td>\n",
       "    </tr>\n",
       "    <tr>\n",
       "      <th>2</th>\n",
       "      <td>2</td>\n",
       "      <td>The Conformist</td>\n",
       "      <td>1970-10-22</td>\n",
       "      <td>Set in Rome in the 1930s, this re-release of B...</td>\n",
       "      <td>7.3</td>\n",
       "      <td>106</td>\n",
       "      <td>Bernardo Bertolucci</td>\n",
       "      <td>Alberto Moravia, Bernardo Bertolucci</td>\n",
       "      <td>1 h 47 m</td>\n",
       "      <td>Drama</td>\n",
       "      <td>1970</td>\n",
       "      <td>10</td>\n",
       "    </tr>\n",
       "    <tr>\n",
       "      <th>3</th>\n",
       "      <td>3</td>\n",
       "      <td>Tokyo Story</td>\n",
       "      <td>1972-03-13</td>\n",
       "      <td>Yasujiro Ozu’s Tokyo Story follows an aging co...</td>\n",
       "      <td>8.1</td>\n",
       "      <td>147</td>\n",
       "      <td>Yasujirô Ozu</td>\n",
       "      <td>Kôgo Noda, Yasujirô Ozu</td>\n",
       "      <td>2 h 16 m</td>\n",
       "      <td>Drama</td>\n",
       "      <td>1972</td>\n",
       "      <td>3</td>\n",
       "    </tr>\n",
       "    <tr>\n",
       "      <th>4</th>\n",
       "      <td>4</td>\n",
       "      <td>The Leopard (re-release)</td>\n",
       "      <td>2004-08-13</td>\n",
       "      <td>Set in Sicily in 1860, Luchino Visconti's spec...</td>\n",
       "      <td>7.8</td>\n",
       "      <td>85</td>\n",
       "      <td>Luchino Visconti</td>\n",
       "      <td>Giuseppe Tomasi di Lampedusa, Suso Cecchi D'Am...</td>\n",
       "      <td>3 h 7 m</td>\n",
       "      <td>Drama,History</td>\n",
       "      <td>2004</td>\n",
       "      <td>8</td>\n",
       "    </tr>\n",
       "  </tbody>\n",
       "</table>\n",
       "</div>"
      ],
      "text/plain": [
       "   Unnamed: 0                     Title Release Date  \\\n",
       "0           0            Dekalog (1988)   1996-03-22   \n",
       "1           1         Three Colors: Red   1994-11-23   \n",
       "2           2            The Conformist   1970-10-22   \n",
       "3           3               Tokyo Story   1972-03-13   \n",
       "4           4  The Leopard (re-release)   2004-08-13   \n",
       "\n",
       "                                         Description  Rating  \\\n",
       "0  This masterwork by Krzysztof Kieślowski is one...     7.4   \n",
       "1  Krzysztof Kieslowski closes his Three Colors t...     8.3   \n",
       "2  Set in Rome in the 1930s, this re-release of B...     7.3   \n",
       "3  Yasujiro Ozu’s Tokyo Story follows an aging co...     8.1   \n",
       "4  Set in Sicily in 1860, Luchino Visconti's spec...     7.8   \n",
       "\n",
       "  No of Persons Voted           Directed by  \\\n",
       "0                 118  Krzysztof Kieslowski   \n",
       "1                 241  Krzysztof Kieslowski   \n",
       "2                 106   Bernardo Bertolucci   \n",
       "3                 147          Yasujirô Ozu   \n",
       "4                  85      Luchino Visconti   \n",
       "\n",
       "                                          Written by  Duration  \\\n",
       "0         Krzysztof Kieslowski, Krzysztof Piesiewicz  9 h 32 m   \n",
       "1  Krzysztof Kieslowski, Krzysztof Piesiewicz, Ag...  1 h 39 m   \n",
       "2               Alberto Moravia, Bernardo Bertolucci  1 h 47 m   \n",
       "3                            Kôgo Noda, Yasujirô Ozu  2 h 16 m   \n",
       "4  Giuseppe Tomasi di Lampedusa, Suso Cecchi D'Am...   3 h 7 m   \n",
       "\n",
       "                  Genres  Release_Year  Release_Month  \n",
       "0                  Drama          1996              3  \n",
       "1  Drama,Mystery,Romance          1994             11  \n",
       "2                  Drama          1970             10  \n",
       "3                  Drama          1972              3  \n",
       "4          Drama,History          2004              8  "
      ]
     },
     "execution_count": 11,
     "metadata": {},
     "output_type": "execute_result"
    }
   ],
   "source": [
    "#4. Convert the Release Date column into components like year and month. What are the most frequent movie release years and months?\n",
    "df['Release Date'] = pd.to_datetime(df['Release Date'])\n",
    "df['Release_Year'] = pd.DatetimeIndex(df['Release Date']).year\n",
    "df['Release_Month'] = pd.DatetimeIndex(df['Release Date']).month\n",
    "df.head()"
   ]
  },
  {
   "cell_type": "code",
   "execution_count": 12,
   "id": "5a9bdd44-b0a1-4c13-9b66-aa5fb7801c16",
   "metadata": {},
   "outputs": [
    {
     "data": {
      "text/plain": [
       "0        False\n",
       "1        False\n",
       "2        False\n",
       "3        False\n",
       "4        False\n",
       "         ...  \n",
       "16285    False\n",
       "16286    False\n",
       "16287    False\n",
       "16288    False\n",
       "16289    False\n",
       "Name: Title, Length: 16290, dtype: bool"
      ]
     },
     "execution_count": 12,
     "metadata": {},
     "output_type": "execute_result"
    }
   ],
   "source": [
    "# 5. How many duplicate movies exist based on the Title column? What steps would you take to remove duplicates, if any?\n",
    "df['Title'].duplicated()"
   ]
  },
  {
   "cell_type": "code",
   "execution_count": 13,
   "id": "6dd8d212-b640-4cda-96db-86e18e9cb969",
   "metadata": {},
   "outputs": [],
   "source": [
    "#4. Convert the Release Date column into components like year and month. What are the most frequent movie release years and months?\n",
    "\n",
    "# 5. How many duplicate movies exist based on the Title column? What steps would you take to remove duplicates, if any?\n",
    "\n",
    "#6. Perform frequency counts of categorical columns such as Directed by and Written by. Which directors and screenwriters have the most movies in the dataset?\n",
    "\n",
    "#7. Create a new column that classifies movies based on their Duration (e.g., short, medium, long). How many movies fall into each category, and how does the rating vary by category?\n",
    "\n",
    "#8. What are the average and median Number of Persons Voted per movie? What is the relationship between the number of votes and the movie's Rating?\n",
    "\n",
    "#9. Calculate the total number of movies directed by each director. What are the descriptive statistics (mean, median, max) for the number of movies directed per individual?\n",
    "\n",
    "#10. Analyze the distribution of movies across different decades. What decade had the highest average movie rating?\n",
    "\n",
    "#11. How many movies belong to multiple genres? What percentage of movies in each genre also belong to another genre?\n",
    "\n",
    "#12. What is the correlation between Duration and Rating? Do longer or shorter movies tend to receive higher ratings?\n",
    "\n",
    "#13. Calculate the average Rating for each genre. Which genres have the highest and lowest average ratings?\n",
    "\n",
    "#14. Create a new binary flag to indicate high-rated movies (with a Rating greater than 75). How many movies fall into this category?\n",
    "\n",
    "#15. Extract the year from the Release Date column and calculate the number of movies released per year. What trends in movie releases can be observed over time?\n",
    "\n",
    "#21. Perform a correlation analysis between the Number of Persons Voted, Duration, and Rating. What are the correlation coefficients, and what do they reveal?\n",
    "\n",
    "#22. Compute the proportion of movies with ratings below 50. How does this proportion change over the decades?\n",
    "\n",
    "#23. Analyze the average Rating for movies by decade and genre. Which decade and genre combination produced the highest-rated films?\n",
    "\n",
    "#24. Compare the number of movies and the average Rating for movies directed by men vs. women (if gender data is available). Are there any significant trends?\n",
    "\n",
    "#25. Perform a text analysis on the Description column. Are there certain keywords in movie descriptions associated with higher or lower ratings?\n",
    "\n",
    "\n",
    "\n",
    "\n",
    "\n",
    "\n",
    "\n",
    "\n",
    "\n",
    "\n",
    "\n",
    "\n",
    "\n",
    "\n",
    "\n",
    "\n",
    "\n",
    "\n",
    "\n",
    "\n"
   ]
  },
  {
   "cell_type": "code",
   "execution_count": 14,
   "id": "91e2fabd-9f29-4d41-9da9-bd29bb5bcf37",
   "metadata": {},
   "outputs": [
    {
     "name": "stdout",
     "output_type": "stream",
     "text": [
      "Directed by\n",
      "Woody Allen                                             50\n",
      "Ron Howard                                              40\n",
      "Clint Eastwood                                          35\n",
      "Ridley Scott                                            35\n",
      "Steven Spielberg                                        35\n",
      "                                                        ..\n",
      "Joseph Gordon-Levitt                                     1\n",
      "Vadim Jendreyko                                          1\n",
      "John Francis Daley, \\n    \\n      Jonathan Goldstein     1\n",
      "Natalia Almada                                           1\n",
      "Josh Pais                                                1\n",
      "Name: count, Length: 7379, dtype: int64\n",
      "Written by\n",
      "Woody Allen                                                                                     46\n",
      "Tyler Perry                                                                                     19\n",
      "Hong Sang-soo                                                                                   17\n",
      "John Hughes                                                                                     15\n",
      "David Mamet                                                                                     15\n",
      "                                                                                                ..\n",
      "Bob Peterson, Peter Sohn, Erik Benson, Meg LeFauve, Kelsey Mann, Peter Hedges, Adrian Molina     1\n",
      "Deric Washburn, Walon Green, David Freeman                                                       1\n",
      "Charles Fuller                                                                                   1\n",
      "Michael Mann, Anthony Yerkovich                                                                  1\n",
      "Josh Pais                                                                                        1\n",
      "Name: count, Length: 11787, dtype: int64\n"
     ]
    }
   ],
   "source": [
    "#6. Perform frequency counts of categorical columns such as Directed by and Written by.\n",
    "#   Which directors and screenwriters have the most movies in the dataset?\n",
    "dir_by_counts = df['Directed by'].value_counts()\n",
    "wri_by_counts = df['Written by'].value_counts()\n",
    "print(dir_by_counts)\n",
    "print(wri_by_counts)\n"
   ]
  },
  {
   "cell_type": "code",
   "execution_count": 15,
   "id": "8886fc84-5a75-453d-881c-1333d1139bdd",
   "metadata": {},
   "outputs": [
    {
     "data": {
      "text/plain": [
       "Directed by\n",
       "Woody Allen                                         50\n",
       "Ron Howard                                          40\n",
       "Clint Eastwood                                      35\n",
       "Ridley Scott                                        35\n",
       "Steven Spielberg                                    35\n",
       "                                                    ..\n",
       "Cherie Nowlan                                        1\n",
       "Deran Sarafian                                       1\n",
       "Carlos Saldanha, \\n    \\n      Michael Thurmeier     1\n",
       "Robert Dalva                                         1\n",
       "Josh Pais                                            1\n",
       "Name: count, Length: 7379, dtype: int64"
      ]
     },
     "execution_count": 15,
     "metadata": {},
     "output_type": "execute_result"
    }
   ],
   "source": [
    " df['Directed by'].value_counts().sort_values(ascending=False)"
   ]
  },
  {
   "cell_type": "code",
   "execution_count": 16,
   "id": "5510c912-4b20-441c-ad14-ac8ccfceace3",
   "metadata": {},
   "outputs": [
    {
     "data": {
      "text/plain": [
       "Written by\n",
       "Stacey Harman, Pamela Ribon, Peyo                                                                           1\n",
       "Jacques Lob, Benjamin Legrand, Jean-Marc Rochette, Bong Joon Ho, Kelly Masterson                            1\n",
       "Eric Knight, Charles Sturridge                                                                              1\n",
       "William Steig, Ted Elliott, Terry Rossio, Joe Stillman, Roger S.H. Schulman, Cody Cameron, Chris Miller     1\n",
       "Dave Chappelle                                                                                              1\n",
       "                                                                                                           ..\n",
       "David Mamet                                                                                                15\n",
       "John Hughes                                                                                                15\n",
       "Hong Sang-soo                                                                                              17\n",
       "Tyler Perry                                                                                                19\n",
       "Woody Allen                                                                                                46\n",
       "Name: count, Length: 11787, dtype: int64"
      ]
     },
     "execution_count": 16,
     "metadata": {},
     "output_type": "execute_result"
    }
   ],
   "source": [
    " df['Written by'].value_counts().sort_values()"
   ]
  },
  {
   "cell_type": "code",
   "execution_count": 17,
   "id": "bc09ba0f-440f-460e-abd1-331bbbe19b07",
   "metadata": {},
   "outputs": [],
   "source": [
    "#7. Create a new column that classifies movies based on their Duration (e.g., short, medium, long). \n",
    "#   How many movies fall into each category, and how does the rating vary by category?\n"
   ]
  },
  {
   "cell_type": "code",
   "execution_count": 18,
   "id": "f19385e7-3561-4b13-8556-bd7f381f790d",
   "metadata": {},
   "outputs": [
    {
     "data": {
      "text/plain": [
       "Unnamed: 0                0\n",
       "Title                     0\n",
       "Release Date              0\n",
       "Description               0\n",
       "Rating                 3444\n",
       "No of Persons Voted    3461\n",
       "Directed by               7\n",
       "Written by              963\n",
       "Duration                 13\n",
       "Genres                    5\n",
       "Release_Year              0\n",
       "Release_Month             0\n",
       "dtype: int64"
      ]
     },
     "execution_count": 18,
     "metadata": {},
     "output_type": "execute_result"
    }
   ],
   "source": [
    "df.isnull().sum()"
   ]
  },
  {
   "cell_type": "code",
   "execution_count": 19,
   "id": "7075be7b-232e-4bab-8c29-4588e7fe2e31",
   "metadata": {},
   "outputs": [
    {
     "data": {
      "text/plain": [
       "array(['Krzysztof Kieslowski', 'Bernardo Bertolucci', 'Yasujirô Ozu', ...,\n",
       "       'Michelle Esrick', 'Martin Doblmeier', 'Josh Pais'], dtype=object)"
      ]
     },
     "execution_count": 19,
     "metadata": {},
     "output_type": "execute_result"
    }
   ],
   "source": [
    "df['Directed by'].unique()"
   ]
  },
  {
   "cell_type": "code",
   "execution_count": 20,
   "id": "21e7f49b-6537-4631-b7a1-60599e8f012d",
   "metadata": {},
   "outputs": [
    {
     "name": "stderr",
     "output_type": "stream",
     "text": [
      "C:\\Users\\H P PC\\AppData\\Local\\Temp\\ipykernel_8924\\3027959572.py:2: FutureWarning: Series.fillna with 'method' is deprecated and will raise in a future version. Use obj.ffill() or obj.bfill() instead.\n",
      "  df['Directed by'].fillna(method = 'ffill', inplace=True)\n"
     ]
    }
   ],
   "source": [
    "df['Directed by']=df['Directed by'].copy()\n",
    "df['Directed by'].fillna(method = 'ffill', inplace=True)"
   ]
  },
  {
   "cell_type": "code",
   "execution_count": 21,
   "id": "c32d1348-7717-401e-bacc-259404ea49f1",
   "metadata": {},
   "outputs": [
    {
     "data": {
      "text/plain": [
       "array(['Krzysztof Kieslowski, Krzysztof Piesiewicz',\n",
       "       'Krzysztof Kieslowski, Krzysztof Piesiewicz, Agnieszka Holland, Edward Zebrowski, Edward Klosinski, Marcin Latallo',\n",
       "       'Alberto Moravia, Bernardo Bertolucci', ...,\n",
       "       'Mark Christensen, Brian Hamill', 'Martin Doblmeier', 'Josh Pais'],\n",
       "      dtype=object)"
      ]
     },
     "execution_count": 21,
     "metadata": {},
     "output_type": "execute_result"
    }
   ],
   "source": [
    "df['Written by'].unique()"
   ]
  },
  {
   "cell_type": "code",
   "execution_count": 22,
   "id": "ee107f9c-3e75-4645-be91-a28d0ea0cd9b",
   "metadata": {},
   "outputs": [
    {
     "name": "stderr",
     "output_type": "stream",
     "text": [
      "C:\\Users\\H P PC\\AppData\\Local\\Temp\\ipykernel_8924\\3317085566.py:2: FutureWarning: Series.fillna with 'method' is deprecated and will raise in a future version. Use obj.ffill() or obj.bfill() instead.\n",
      "  df['Written by'].fillna(method= 'ffill', inplace=True)\n"
     ]
    }
   ],
   "source": [
    "df['Written by'] = df['Written by'].copy()\n",
    "df['Written by'].fillna(method= 'ffill', inplace=True)"
   ]
  },
  {
   "cell_type": "code",
   "execution_count": 23,
   "id": "c63be71f-2095-450f-8573-3b34a92ca5df",
   "metadata": {},
   "outputs": [
    {
     "data": {
      "text/plain": [
       "0.3"
      ]
     },
     "execution_count": 23,
     "metadata": {},
     "output_type": "execute_result"
    }
   ],
   "source": [
    "df['Rating'].min()"
   ]
  },
  {
   "cell_type": "code",
   "execution_count": 24,
   "id": "9cf69f62-e4ef-49da-92e2-e383adf7e269",
   "metadata": {},
   "outputs": [],
   "source": [
    "df['Rating'] = df['Rating'].copy()\n",
    "df['Rating'].fillna(df['Rating'].mean(),inplace=True)"
   ]
  },
  {
   "cell_type": "code",
   "execution_count": 25,
   "id": "739aa484-6495-40db-9559-66a9d7b598c2",
   "metadata": {},
   "outputs": [
    {
     "data": {
      "text/plain": [
       "Unnamed: 0                0\n",
       "Title                     0\n",
       "Release Date              0\n",
       "Description               0\n",
       "Rating                    0\n",
       "No of Persons Voted    3461\n",
       "Directed by               0\n",
       "Written by                0\n",
       "Duration                 13\n",
       "Genres                    5\n",
       "Release_Year              0\n",
       "Release_Month             0\n",
       "dtype: int64"
      ]
     },
     "execution_count": 25,
     "metadata": {},
     "output_type": "execute_result"
    }
   ],
   "source": [
    "df.isnull().sum()"
   ]
  },
  {
   "cell_type": "code",
   "execution_count": 26,
   "id": "0850fdb2-f5ad-4a18-997b-cead0b38e43d",
   "metadata": {},
   "outputs": [
    {
     "name": "stderr",
     "output_type": "stream",
     "text": [
      "C:\\Users\\H P PC\\AppData\\Local\\Temp\\ipykernel_8924\\338267257.py:2: FutureWarning: Series.fillna with 'method' is deprecated and will raise in a future version. Use obj.ffill() or obj.bfill() instead.\n",
      "  df['No of Persons Voted'].fillna(method = 'bfill', inplace=True)\n"
     ]
    }
   ],
   "source": [
    "df['No of Persons Voted'] = df['No of Persons Voted'].copy()\n",
    "df['No of Persons Voted'].fillna(method = 'bfill', inplace=True)"
   ]
  },
  {
   "cell_type": "code",
   "execution_count": 27,
   "id": "a1c03011-6021-4b36-a0ab-3dbdc28b6395",
   "metadata": {},
   "outputs": [
    {
     "data": {
      "text/plain": [
       "Unnamed: 0              0\n",
       "Title                   0\n",
       "Release Date            0\n",
       "Description             0\n",
       "Rating                  0\n",
       "No of Persons Voted     7\n",
       "Directed by             0\n",
       "Written by              0\n",
       "Duration               13\n",
       "Genres                  5\n",
       "Release_Year            0\n",
       "Release_Month           0\n",
       "dtype: int64"
      ]
     },
     "execution_count": 27,
     "metadata": {},
     "output_type": "execute_result"
    }
   ],
   "source": [
    "df.isnull().sum()"
   ]
  },
  {
   "cell_type": "code",
   "execution_count": 28,
   "id": "38ceb09b-0a33-4cb6-bd46-4d51c51e4ec5",
   "metadata": {},
   "outputs": [
    {
     "data": {
      "text/plain": [
       "Index(['Unnamed: 0', 'Title', 'Release Date', 'Description', 'Rating',\n",
       "       'No of Persons Voted', 'Directed by', 'Written by', 'Duration',\n",
       "       'Genres', 'Release_Year', 'Release_Month'],\n",
       "      dtype='object')"
      ]
     },
     "execution_count": 28,
     "metadata": {},
     "output_type": "execute_result"
    }
   ],
   "source": [
    "df.columns"
   ]
  },
  {
   "cell_type": "code",
   "execution_count": 29,
   "id": "c3ac113f-f2cd-4927-b234-76c5feebfdd5",
   "metadata": {},
   "outputs": [
    {
     "data": {
      "text/html": [
       "<div>\n",
       "<style scoped>\n",
       "    .dataframe tbody tr th:only-of-type {\n",
       "        vertical-align: middle;\n",
       "    }\n",
       "\n",
       "    .dataframe tbody tr th {\n",
       "        vertical-align: top;\n",
       "    }\n",
       "\n",
       "    .dataframe thead th {\n",
       "        text-align: right;\n",
       "    }\n",
       "</style>\n",
       "<table border=\"1\" class=\"dataframe\">\n",
       "  <thead>\n",
       "    <tr style=\"text-align: right;\">\n",
       "      <th></th>\n",
       "      <th>Unnamed: 0</th>\n",
       "      <th>Title</th>\n",
       "      <th>Release Date</th>\n",
       "      <th>Description</th>\n",
       "      <th>Rating</th>\n",
       "      <th>No of Persons Voted</th>\n",
       "      <th>Directed by</th>\n",
       "      <th>Written by</th>\n",
       "      <th>Duration</th>\n",
       "      <th>Genres</th>\n",
       "      <th>Release_Year</th>\n",
       "      <th>Release_Month</th>\n",
       "    </tr>\n",
       "  </thead>\n",
       "  <tbody>\n",
       "    <tr>\n",
       "      <th>0</th>\n",
       "      <td>0</td>\n",
       "      <td>Dekalog (1988)</td>\n",
       "      <td>1996-03-22</td>\n",
       "      <td>This masterwork by Krzysztof Kieślowski is one...</td>\n",
       "      <td>7.4</td>\n",
       "      <td>118</td>\n",
       "      <td>Krzysztof Kieslowski</td>\n",
       "      <td>Krzysztof Kieslowski, Krzysztof Piesiewicz</td>\n",
       "      <td>9 h 32 m</td>\n",
       "      <td>Drama</td>\n",
       "      <td>1996</td>\n",
       "      <td>3</td>\n",
       "    </tr>\n",
       "    <tr>\n",
       "      <th>1</th>\n",
       "      <td>1</td>\n",
       "      <td>Three Colors: Red</td>\n",
       "      <td>1994-11-23</td>\n",
       "      <td>Krzysztof Kieslowski closes his Three Colors t...</td>\n",
       "      <td>8.3</td>\n",
       "      <td>241</td>\n",
       "      <td>Krzysztof Kieslowski</td>\n",
       "      <td>Krzysztof Kieslowski, Krzysztof Piesiewicz, Ag...</td>\n",
       "      <td>1 h 39 m</td>\n",
       "      <td>Drama,Mystery,Romance</td>\n",
       "      <td>1994</td>\n",
       "      <td>11</td>\n",
       "    </tr>\n",
       "    <tr>\n",
       "      <th>2</th>\n",
       "      <td>2</td>\n",
       "      <td>The Conformist</td>\n",
       "      <td>1970-10-22</td>\n",
       "      <td>Set in Rome in the 1930s, this re-release of B...</td>\n",
       "      <td>7.3</td>\n",
       "      <td>106</td>\n",
       "      <td>Bernardo Bertolucci</td>\n",
       "      <td>Alberto Moravia, Bernardo Bertolucci</td>\n",
       "      <td>1 h 47 m</td>\n",
       "      <td>Drama</td>\n",
       "      <td>1970</td>\n",
       "      <td>10</td>\n",
       "    </tr>\n",
       "    <tr>\n",
       "      <th>3</th>\n",
       "      <td>3</td>\n",
       "      <td>Tokyo Story</td>\n",
       "      <td>1972-03-13</td>\n",
       "      <td>Yasujiro Ozu’s Tokyo Story follows an aging co...</td>\n",
       "      <td>8.1</td>\n",
       "      <td>147</td>\n",
       "      <td>Yasujirô Ozu</td>\n",
       "      <td>Kôgo Noda, Yasujirô Ozu</td>\n",
       "      <td>2 h 16 m</td>\n",
       "      <td>Drama</td>\n",
       "      <td>1972</td>\n",
       "      <td>3</td>\n",
       "    </tr>\n",
       "    <tr>\n",
       "      <th>4</th>\n",
       "      <td>4</td>\n",
       "      <td>The Leopard (re-release)</td>\n",
       "      <td>2004-08-13</td>\n",
       "      <td>Set in Sicily in 1860, Luchino Visconti's spec...</td>\n",
       "      <td>7.8</td>\n",
       "      <td>85</td>\n",
       "      <td>Luchino Visconti</td>\n",
       "      <td>Giuseppe Tomasi di Lampedusa, Suso Cecchi D'Am...</td>\n",
       "      <td>3 h 7 m</td>\n",
       "      <td>Drama,History</td>\n",
       "      <td>2004</td>\n",
       "      <td>8</td>\n",
       "    </tr>\n",
       "  </tbody>\n",
       "</table>\n",
       "</div>"
      ],
      "text/plain": [
       "   Unnamed: 0                     Title Release Date  \\\n",
       "0           0            Dekalog (1988)   1996-03-22   \n",
       "1           1         Three Colors: Red   1994-11-23   \n",
       "2           2            The Conformist   1970-10-22   \n",
       "3           3               Tokyo Story   1972-03-13   \n",
       "4           4  The Leopard (re-release)   2004-08-13   \n",
       "\n",
       "                                         Description  Rating  \\\n",
       "0  This masterwork by Krzysztof Kieślowski is one...     7.4   \n",
       "1  Krzysztof Kieslowski closes his Three Colors t...     8.3   \n",
       "2  Set in Rome in the 1930s, this re-release of B...     7.3   \n",
       "3  Yasujiro Ozu’s Tokyo Story follows an aging co...     8.1   \n",
       "4  Set in Sicily in 1860, Luchino Visconti's spec...     7.8   \n",
       "\n",
       "  No of Persons Voted           Directed by  \\\n",
       "0                 118  Krzysztof Kieslowski   \n",
       "1                 241  Krzysztof Kieslowski   \n",
       "2                 106   Bernardo Bertolucci   \n",
       "3                 147          Yasujirô Ozu   \n",
       "4                  85      Luchino Visconti   \n",
       "\n",
       "                                          Written by  Duration  \\\n",
       "0         Krzysztof Kieslowski, Krzysztof Piesiewicz  9 h 32 m   \n",
       "1  Krzysztof Kieslowski, Krzysztof Piesiewicz, Ag...  1 h 39 m   \n",
       "2               Alberto Moravia, Bernardo Bertolucci  1 h 47 m   \n",
       "3                            Kôgo Noda, Yasujirô Ozu  2 h 16 m   \n",
       "4  Giuseppe Tomasi di Lampedusa, Suso Cecchi D'Am...   3 h 7 m   \n",
       "\n",
       "                  Genres  Release_Year  Release_Month  \n",
       "0                  Drama          1996              3  \n",
       "1  Drama,Mystery,Romance          1994             11  \n",
       "2                  Drama          1970             10  \n",
       "3                  Drama          1972              3  \n",
       "4          Drama,History          2004              8  "
      ]
     },
     "execution_count": 29,
     "metadata": {},
     "output_type": "execute_result"
    }
   ],
   "source": [
    "df.head()"
   ]
  },
  {
   "cell_type": "code",
   "execution_count": 32,
   "id": "246ec281-bb19-49c0-a2a5-dff80ca5868f",
   "metadata": {},
   "outputs": [
    {
     "data": {
      "text/plain": [
       "array(['9 h 32 m', '1 h 39 m', '1 h 47 m', '2 h 16 m', '3 h 7 m',\n",
       "       '2 h 55 m', '2 h 45 m', '3 h 36 m', '3 h 8 m', '2 h 35 m',\n",
       "       '2 h 25 m', '1 h 31 m', '1 h 34 m', '1 h 58 m', '2 h 50 m',\n",
       "       '2 h 33 m', '1 h 43 m', '2 h 42 m', '1 h 41 m', '2 h 2 m',\n",
       "       '1 h 53 m', '2 h 12 m', '1 h 50 m', '2 h 15 m', '2 h 5 m',\n",
       "       '1 h 21 m', '1 h 57 m', '2 h 14 m', '2 h 17 m', '2 h 1 m',\n",
       "       '\\n        http://www.killerofsheep.com/\\n        ', '2 h 40 m',\n",
       "       '1 h 51 m', '3 h 10 m', '1 h 52 m', '1 h 33 m', '1 h 8 m', '2 h',\n",
       "       'TV-MA', '2 h 43 m', '1 h 38 m', '2 h 7 m', '2 h 11 m', '2 h 34 m',\n",
       "       '2 h 37 m', '1 h 49 m', '2 h 3 m', '3 h 15 m', '1 h 46 m',\n",
       "       '1 h 35 m', '1 h 54 m', '2 h 58 m', '2 h 53 m', '2 h 30 m',\n",
       "       '3 h 29 m', '1 h 29 m', '1 h 23 m', '1 h 28 m', '2 h 6 m',\n",
       "       '1 h 30 m', '3 h 21 m', '2 h 13 m', '2 h 9 m', '5 h 25 m',\n",
       "       '1 h 44 m', '2 h 8 m', '3 h 22 m', '1 h 12 m', '1 h 45 m',\n",
       "       '4 h 33 m', '1 h 42 m', '2 h 48 m', '1 h 36 m', '2 h 38 m',\n",
       "       '1 h 22 m', '1 h 40 m', '1 h 59 m', '2 h 47 m', '1 h 48 m',\n",
       "       '1 h 10 m', '2 h 10 m', '3 h 2 m', '1 h 37 m', '1 h 56 m',\n",
       "       '1 h 55 m', nan, '1 h 27 m', '4 h', '2 h 20 m', '2 h 26 m',\n",
       "       '2 h 28 m', '2 h 59 m', '2 h 4 m', '2 h 52 m', '2 h 18 m',\n",
       "       '2 h 21 m', '1 h 18 m', '3 h 17 m',\n",
       "       '\\n        https://www.kinolorber.com/film/hit-the-road\\n        ',\n",
       "       '3 h 13 m', '1 h 20 m', '2 h 49 m', '1 h 32 m', '3 h 20 m',\n",
       "       '4 h 6 m', '1 h 15 m', '2 h 27 m', '3 h', '1 h 25 m', '2 h 19 m',\n",
       "       '3 h 26 m', '5 h 21 m', '4 h 15 m', '1 h 24 m', '3 h 4 m',\n",
       "       '3 h 37 m', '8 h 15 m', '1 h 9 m', '4 h 32 m', 'Not Rated',\n",
       "       '1 h 16 m', 'Unrated', '3 h 16 m', '1 h 5 m', '2 h 22 m', '30 m',\n",
       "       '12 h 9 m', '1 h 26 m', '1 h 3 m', '3 h 50 m', '1 h 17 m',\n",
       "       '2 h 24 m', '3 h 9 m', '2 h 31 m', '1 h 19 m', '37 m', '2 h 29 m',\n",
       "       '2 h 32 m',\n",
       "       '\\n        http://www.afterthestormfoundation.org/\\n        ',\n",
       "       '2 h 51 m', '3 h 44 m', '2 h 23 m',\n",
       "       '\\n        http://timemachinefilm.com/\\n        ', '1 h 13 m',\n",
       "       '1 h 11 m', '3 h 51 m', '53 m', '3 h 46 m', '2 h 39 m', '2 h 36 m',\n",
       "       '1 h', '3 h 6 m', '4 h 4 m', '2 h 44 m', '1 h 14 m', 'TV-14',\n",
       "       '4 h 10 m', '\\n        http://www.unrest.film/\\n        ', 'PG-13',\n",
       "       '2 h 54 m',\n",
       "       '\\n        https://www.kinolorber.com/film/theforce\\n        ',\n",
       "       '3 h 40 m', '2 h 41 m', '41 m', '3 h 11 m',\n",
       "       '\\n        http://collidingdreamsthemovie.com/\\n        ', '40 m',\n",
       "       '59 m', '3 h 58 m',\n",
       "       '\\n        https://strandreleasing.com/films/the-shadowless-tower/\\n        ',\n",
       "       '3 h 1 m', '3 h 57 m', 'PG', '44 m', '4 h 55 m', '1 h 6 m',\n",
       "       'What Will You Find if You Pin All Your Hopes Online?',\n",
       "       '13 h 28 m', '54 m', 'R', '3 h 3 m', '3 h 25 m',\n",
       "       '\\n        http://www.thegodfather.com/\\n        ', '3 h 59 m',\n",
       "       '3 h 49 m', '1 h 1 m', 'The one team that had a pair', '3 h 14 m',\n",
       "       '3 h 38 m',\n",
       "       'Four artists impacted by blindness. Four different paths to the imagination.',\n",
       "       'One war ends. Another begins.', '3 h 35 m', '58 m',\n",
       "       '\\n        http://www.youdontlikethetruth.com/\\n        ', '56 m',\n",
       "       '\\n        http://karlmarxcity.com/\\n        ', '4 h 20 m',\n",
       "       'TV-PG',\n",
       "       '\\n        https://greenwichentertainment.com/film/hello-bookstore/\\n        ',\n",
       "       '\\n        http://www.falloffujimori.com/\\n        ', '1 h 7 m',\n",
       "       '\\n        http://www.facebook.com/pages/Iron-Crows-Movie/201713159275#!/pages/Iron-Crows-Movie/201713159275?sk=info\\n        ',\n",
       "       '\\n        http://aspaceprogram.com/\\n        ', '2 h 56 m',\n",
       "       '\\n        http://www.filmmovement.com/libraries/index.asp?MerchandiseID=462\\n        ',\n",
       "       'On October 20, 2012, American Journalist Theo Padaos Was Kidnapped in Syria. This is His Story.',\n",
       "       '47 m', '3 h 18 m', '5 h 17 m', '2 h 46 m', '2 h 57 m',\n",
       "       '\\n        http://www.itvs.org/external/WGOOS/WGMAIN.html\\n        ',\n",
       "       '3 h 12 m', '39 m',\n",
       "       '\\n        http://www.samuelgoldwynfilms.com/cowboys/\\n        ',\n",
       "       '\\n        http://advancedstylefilm.com/\\n        ',\n",
       "       \"RADICAL WOLFE is the first feature film to explore Tom Wolfe's life and work, a man who pioneered disruptive journalism, challenged American obsessions and overused punctuation way before it was cool. Tom didn't just document America, he dipped his pen in acid and took readers on a vivid trip through the summer of love, landing on the moon and 1980s Wall Street money-grubbing.\",\n",
       "       '52 m', 'Inside the car is another world.',\n",
       "       \"Once you believe something is possible, it's done already.\",\n",
       "       '\\n        https://www.lionsgate.com/movies/the-cotton-club-encore\\n        ',\n",
       "       'TV-G', '\\n        http://www.gracelee.net/\\n        ',\n",
       "       '\\n        http://www.alma-films.com/\\n        ',\n",
       "       '\\n        https://www.kinolorber.com/film/chef-flynn\\n        ',\n",
       "       '21 m', 'A history of the Mariel Boatlift',\n",
       "       'The story of how truth became the first American casualty in Iraq.',\n",
       "       '51 m',\n",
       "       '\\n        https://www.factorytwentyfive.com/superior\\n        ',\n",
       "       '\\n        http://www.maureengosling.com/ramo/about/about.html\\n        ',\n",
       "       '4 h 30 m',\n",
       "       '\\n        http://www.pbs.org/pov/pov1998/sacrifice/index.html\\n        ',\n",
       "       '46 m',\n",
       "       '\\n        http://combatobscura.oscilloscope.net/\\n        ',\n",
       "       '\\n        http://kabakovfilm.com/\\n        ',\n",
       "       'Is the \" School of the Americas\" a force of democracy or a \"School of Assassins\"?',\n",
       "       '\\n        http://www.tamala2010.com/\\n        ',\n",
       "       '\\n        http://www.picturethisent.com/minisites/youilove/index.html\\n        ',\n",
       "       '\\n        http://www.delicacyfilm.com/\\n        ',\n",
       "       '\\n        http://www.filmmovement.com/libraries/index.asp?MerchandiseID=573\\n        ',\n",
       "       '\\n        https://www.foxmovies.com/movies/once-upon-a-deadpool\\n        ',\n",
       "       '45 m', '\\n        http://www.dogsweatthefilm.com/\\n        ',\n",
       "       '55 m', '48 m', '31 m',\n",
       "       '\\n        http://www.7thart.com/current/creature/creature.html\\n        ',\n",
       "       '3 h 39 m',\n",
       "       '\\n        https://www.amazon.com/Boys-Men-Phillip-Bartell/dp/B00005UF80\\n        ',\n",
       "       '\\n        http://www.7thstreetmovie.com/\\n        '], dtype=object)"
      ]
     },
     "execution_count": 32,
     "metadata": {},
     "output_type": "execute_result"
    }
   ],
   "source": [
    "df['Duration'].describe()\n"
   ]
  },
  {
   "cell_type": "code",
   "execution_count": null,
   "id": "d86a4bd3-e9b8-4252-9e38-194269338795",
   "metadata": {},
   "outputs": [],
   "source": []
  }
 ],
 "metadata": {
  "kernelspec": {
   "display_name": "Python 3 (ipykernel)",
   "language": "python",
   "name": "python3"
  },
  "language_info": {
   "codemirror_mode": {
    "name": "ipython",
    "version": 3
   },
   "file_extension": ".py",
   "mimetype": "text/x-python",
   "name": "python",
   "nbconvert_exporter": "python",
   "pygments_lexer": "ipython3",
   "version": "3.11.7"
  }
 },
 "nbformat": 4,
 "nbformat_minor": 5
}
