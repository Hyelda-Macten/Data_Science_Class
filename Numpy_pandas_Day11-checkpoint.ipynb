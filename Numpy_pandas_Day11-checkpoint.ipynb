{
 "cells": [
  {
   "cell_type": "markdown",
   "id": "aefce6f2-5374-4f7f-89d5-07ec17fc0f66",
   "metadata": {},
   "source": [
    "# Get information about the business or organization\n",
    "# Know the problem at hand\n",
    "# Getting the wright data\n",
    "# EDA Exploratory data analysis\n",
    "    # Data cleaning\n",
    "    # Data transformation\n",
    "    # Descriptive analysis (python, powerbi, tableau)\n",
    "    # Data Visualization (python, powerbi, tableau)\n",
    "# Machine learning (python) (linear Regression, Binary classification, multiclassification, clustering, text or sentiment analysis)\n",
    "    # Preprocessing\n",
    "    # Model building\n",
    "    # Evaluation (verification)\n",
    "    # Model deployment\n",
    "# Deep Learning"
   ]
  },
  {
   "cell_type": "code",
   "execution_count": 2,
   "id": "4fff2d29-bf48-449b-8699-9a99608728bc",
   "metadata": {},
   "outputs": [
    {
     "name": "stdout",
     "output_type": "stream",
     "text": [
      "['ALLOW_THREADS', 'BUFSIZE', 'CLIP', 'DataSource', 'ERR_CALL', 'ERR_DEFAULT', 'ERR_IGNORE', 'ERR_LOG', 'ERR_PRINT', 'ERR_RAISE', 'ERR_WARN', 'FLOATING_POINT_SUPPORT', 'FPE_DIVIDEBYZERO', 'FPE_INVALID', 'FPE_OVERFLOW', 'FPE_UNDERFLOW', 'False_', 'Inf', 'Infinity', 'MAXDIMS', 'MAY_SHARE_BOUNDS', 'MAY_SHARE_EXACT', 'NAN', 'NINF', 'NZERO', 'NaN', 'PINF', 'PZERO', 'RAISE', 'RankWarning', 'SHIFT_DIVIDEBYZERO', 'SHIFT_INVALID', 'SHIFT_OVERFLOW', 'SHIFT_UNDERFLOW', 'ScalarType', 'True_', 'UFUNC_BUFSIZE_DEFAULT', 'UFUNC_PYVALS_NAME', 'WRAP', '_CopyMode', '_NoValue', '_UFUNC_API', '__NUMPY_SETUP__', '__all__', '__builtins__', '__cached__', '__config__', '__deprecated_attrs__', '__dir__', '__doc__', '__expired_functions__', '__file__', '__former_attrs__', '__future_scalars__', '__getattr__', '__loader__', '__name__', '__package__', '__path__', '__spec__', '__version__', '_add_newdoc_ufunc', '_builtins', '_distributor_init', '_financial_names', '_get_promotion_state', '_globals', '_int_extended_msg', '_mat', '_no_nep50_warning', '_pyinstaller_hooks_dir', '_pytesttester', '_set_promotion_state', '_specific_msg', '_typing', '_using_numpy2_behavior', '_utils', 'abs', 'absolute', 'add', 'add_docstring', 'add_newdoc', 'add_newdoc_ufunc', 'all', 'allclose', 'alltrue', 'amax', 'amin', 'angle', 'any', 'append', 'apply_along_axis', 'apply_over_axes', 'arange', 'arccos', 'arccosh', 'arcsin', 'arcsinh', 'arctan', 'arctan2', 'arctanh', 'argmax', 'argmin', 'argpartition', 'argsort', 'argwhere', 'around', 'array', 'array2string', 'array_equal', 'array_equiv', 'array_repr', 'array_split', 'array_str', 'asanyarray', 'asarray', 'asarray_chkfinite', 'ascontiguousarray', 'asfarray', 'asfortranarray', 'asmatrix', 'atleast_1d', 'atleast_2d', 'atleast_3d', 'average', 'bartlett', 'base_repr', 'binary_repr', 'bincount', 'bitwise_and', 'bitwise_not', 'bitwise_or', 'bitwise_xor', 'blackman', 'block', 'bmat', 'bool_', 'broadcast', 'broadcast_arrays', 'broadcast_shapes', 'broadcast_to', 'busday_count', 'busday_offset', 'busdaycalendar', 'byte', 'byte_bounds', 'bytes_', 'c_', 'can_cast', 'cast', 'cbrt', 'cdouble', 'ceil', 'cfloat', 'char', 'character', 'chararray', 'choose', 'clip', 'clongdouble', 'clongfloat', 'column_stack', 'common_type', 'compare_chararrays', 'compat', 'complex128', 'complex64', 'complex_', 'complexfloating', 'compress', 'concatenate', 'conj', 'conjugate', 'convolve', 'copy', 'copysign', 'copyto', 'corrcoef', 'correlate', 'cos', 'cosh', 'count_nonzero', 'cov', 'cross', 'csingle', 'ctypeslib', 'cumprod', 'cumproduct', 'cumsum', 'datetime64', 'datetime_as_string', 'datetime_data', 'deg2rad', 'degrees', 'delete', 'deprecate', 'deprecate_with_doc', 'diag', 'diag_indices', 'diag_indices_from', 'diagflat', 'diagonal', 'diff', 'digitize', 'disp', 'divide', 'divmod', 'dot', 'double', 'dsplit', 'dstack', 'dtype', 'dtypes', 'e', 'ediff1d', 'einsum', 'einsum_path', 'emath', 'empty', 'empty_like', 'equal', 'errstate', 'euler_gamma', 'exceptions', 'exp', 'exp2', 'expand_dims', 'expm1', 'extract', 'eye', 'fabs', 'fastCopyAndTranspose', 'fft', 'fill_diagonal', 'find_common_type', 'finfo', 'fix', 'flatiter', 'flatnonzero', 'flexible', 'flip', 'fliplr', 'flipud', 'float16', 'float32', 'float64', 'float_', 'float_power', 'floating', 'floor', 'floor_divide', 'fmax', 'fmin', 'fmod', 'format_float_positional', 'format_float_scientific', 'format_parser', 'frexp', 'from_dlpack', 'frombuffer', 'fromfile', 'fromfunction', 'fromiter', 'frompyfunc', 'fromregex', 'fromstring', 'full', 'full_like', 'gcd', 'generic', 'genfromtxt', 'geomspace', 'get_array_wrap', 'get_include', 'get_printoptions', 'getbufsize', 'geterr', 'geterrcall', 'geterrobj', 'gradient', 'greater', 'greater_equal', 'half', 'hamming', 'hanning', 'heaviside', 'histogram', 'histogram2d', 'histogram_bin_edges', 'histogramdd', 'hsplit', 'hstack', 'hypot', 'i0', 'identity', 'iinfo', 'imag', 'in1d', 'index_exp', 'indices', 'inexact', 'inf', 'info', 'infty', 'inner', 'insert', 'int16', 'int32', 'int64', 'int8', 'int_', 'intc', 'integer', 'interp', 'intersect1d', 'intp', 'invert', 'is_busday', 'isclose', 'iscomplex', 'iscomplexobj', 'isfinite', 'isfortran', 'isin', 'isinf', 'isnan', 'isnat', 'isneginf', 'isposinf', 'isreal', 'isrealobj', 'isscalar', 'issctype', 'issubclass_', 'issubdtype', 'issubsctype', 'iterable', 'ix_', 'kaiser', 'kron', 'lcm', 'ldexp', 'left_shift', 'less', 'less_equal', 'lexsort', 'lib', 'linalg', 'linspace', 'little_endian', 'load', 'loadtxt', 'log', 'log10', 'log1p', 'log2', 'logaddexp', 'logaddexp2', 'logical_and', 'logical_not', 'logical_or', 'logical_xor', 'logspace', 'longcomplex', 'longdouble', 'longfloat', 'longlong', 'lookfor', 'ma', 'mask_indices', 'mat', 'matmul', 'matrix', 'max', 'maximum', 'maximum_sctype', 'may_share_memory', 'mean', 'median', 'memmap', 'meshgrid', 'mgrid', 'min', 'min_scalar_type', 'minimum', 'mintypecode', 'mod', 'modf', 'moveaxis', 'msort', 'multiply', 'nan', 'nan_to_num', 'nanargmax', 'nanargmin', 'nancumprod', 'nancumsum', 'nanmax', 'nanmean', 'nanmedian', 'nanmin', 'nanpercentile', 'nanprod', 'nanquantile', 'nanstd', 'nansum', 'nanvar', 'nbytes', 'ndarray', 'ndenumerate', 'ndim', 'ndindex', 'nditer', 'negative', 'nested_iters', 'newaxis', 'nextafter', 'nonzero', 'not_equal', 'numarray', 'number', 'obj2sctype', 'object_', 'ogrid', 'oldnumeric', 'ones', 'ones_like', 'outer', 'packbits', 'pad', 'partition', 'percentile', 'pi', 'piecewise', 'place', 'poly', 'poly1d', 'polyadd', 'polyder', 'polydiv', 'polyfit', 'polyint', 'polymul', 'polynomial', 'polysub', 'polyval', 'positive', 'power', 'printoptions', 'prod', 'product', 'promote_types', 'ptp', 'put', 'put_along_axis', 'putmask', 'quantile', 'r_', 'rad2deg', 'radians', 'random', 'ravel', 'ravel_multi_index', 'real', 'real_if_close', 'rec', 'recarray', 'recfromcsv', 'recfromtxt', 'reciprocal', 'record', 'remainder', 'repeat', 'require', 'reshape', 'resize', 'result_type', 'right_shift', 'rint', 'roll', 'rollaxis', 'roots', 'rot90', 'round', 'round_', 'row_stack', 's_', 'safe_eval', 'save', 'savetxt', 'savez', 'savez_compressed', 'sctype2char', 'sctypeDict', 'sctypes', 'searchsorted', 'select', 'set_numeric_ops', 'set_printoptions', 'set_string_function', 'setbufsize', 'setdiff1d', 'seterr', 'seterrcall', 'seterrobj', 'setxor1d', 'shape', 'shares_memory', 'short', 'show_config', 'show_runtime', 'sign', 'signbit', 'signedinteger', 'sin', 'sinc', 'single', 'singlecomplex', 'sinh', 'size', 'sometrue', 'sort', 'sort_complex', 'source', 'spacing', 'split', 'sqrt', 'square', 'squeeze', 'stack', 'std', 'str_', 'string_', 'subtract', 'sum', 'swapaxes', 'take', 'take_along_axis', 'tan', 'tanh', 'tensordot', 'test', 'testing', 'tile', 'timedelta64', 'trace', 'tracemalloc_domain', 'transpose', 'trapz', 'tri', 'tril', 'tril_indices', 'tril_indices_from', 'trim_zeros', 'triu', 'triu_indices', 'triu_indices_from', 'true_divide', 'trunc', 'typecodes', 'typename', 'ubyte', 'ufunc', 'uint', 'uint16', 'uint32', 'uint64', 'uint8', 'uintc', 'uintp', 'ulonglong', 'unicode_', 'union1d', 'unique', 'unpackbits', 'unravel_index', 'unsignedinteger', 'unwrap', 'ushort', 'vander', 'var', 'vdot', 'vectorize', 'version', 'void', 'vsplit', 'vstack', 'where', 'who', 'zeros', 'zeros_like']\n"
     ]
    }
   ],
   "source": [
    "# NUMPY : NUMERICAL PYTHON\n",
    "import numpy as np\n",
    "print(dir(np))"
   ]
  },
  {
   "cell_type": "code",
   "execution_count": 3,
   "id": "5facc725-ed5f-4e37-aaa2-3bafda4f8b33",
   "metadata": {},
   "outputs": [
    {
     "data": {
      "text/plain": [
       "array([75, 85, 60, 47])"
      ]
     },
     "execution_count": 3,
     "metadata": {},
     "output_type": "execute_result"
    }
   ],
   "source": [
    "# create one dimentional array\n",
    "arr1 = np.array([75,85,60,47])\n",
    "arr1"
   ]
  },
  {
   "cell_type": "code",
   "execution_count": 4,
   "id": "40cd2eae-a467-436d-9ada-e0d1366648a8",
   "metadata": {},
   "outputs": [
    {
     "data": {
      "text/plain": [
       "1"
      ]
     },
     "execution_count": 4,
     "metadata": {},
     "output_type": "execute_result"
    }
   ],
   "source": [
    "arr1.ndim # checking the numbers of array dimension"
   ]
  },
  {
   "cell_type": "code",
   "execution_count": 7,
   "id": "18f3c10a-6674-43b8-8d0d-26034002d11d",
   "metadata": {},
   "outputs": [
    {
     "data": {
      "text/plain": [
       "(4,)"
      ]
     },
     "execution_count": 7,
     "metadata": {},
     "output_type": "execute_result"
    }
   ],
   "source": [
    "arr1.shape # To check the dimention of the statistical data either scaler/matrix"
   ]
  },
  {
   "cell_type": "code",
   "execution_count": 8,
   "id": "2f8c469d-4275-4bfc-9fcd-a03ebc0bb3f8",
   "metadata": {},
   "outputs": [
    {
     "data": {
      "text/plain": [
       "dtype('int32')"
      ]
     },
     "execution_count": 8,
     "metadata": {},
     "output_type": "execute_result"
    }
   ],
   "source": [
    "arr1.dtype # to check the data type. NB array deals with int(as a particilar data type"
   ]
  },
  {
   "cell_type": "code",
   "execution_count": 10,
   "id": "aaaa225e-74f7-444d-b96f-c2bedf2fc53a",
   "metadata": {},
   "outputs": [
    {
     "data": {
      "text/plain": [
       "array([[47, 85, 69, 60],\n",
       "       [80, 85, 64, 90]])"
      ]
     },
     "execution_count": 10,
     "metadata": {},
     "output_type": "execute_result"
    }
   ],
   "source": [
    "# create a Two dimensional array\n",
    "arr2 = np.array([[47,85,69,60],[80,85,64,90]])\n",
    "arr2"
   ]
  },
  {
   "cell_type": "code",
   "execution_count": 14,
   "id": "03543ccb-b39a-44e1-951c-2183dc491ea9",
   "metadata": {},
   "outputs": [
    {
     "data": {
      "text/plain": [
       "2"
      ]
     },
     "execution_count": 14,
     "metadata": {},
     "output_type": "execute_result"
    }
   ],
   "source": [
    "arr2.ndim # Two dimension"
   ]
  },
  {
   "cell_type": "code",
   "execution_count": 15,
   "id": "1d0840b4-7ce6-42a6-ac04-3a9b18c14eea",
   "metadata": {},
   "outputs": [
    {
     "data": {
      "text/plain": [
       "(2, 4)"
      ]
     },
     "execution_count": 15,
     "metadata": {},
     "output_type": "execute_result"
    }
   ],
   "source": [
    "arr2.shape # 2 rows and 4 columns"
   ]
  },
  {
   "cell_type": "code",
   "execution_count": 16,
   "id": "dbe62985-f515-451c-b6a6-7f7138e29c12",
   "metadata": {},
   "outputs": [
    {
     "data": {
      "text/plain": [
       "dtype('int32')"
      ]
     },
     "execution_count": 16,
     "metadata": {},
     "output_type": "execute_result"
    }
   ],
   "source": [
    "arr2.dtype # integer"
   ]
  },
  {
   "cell_type": "code",
   "execution_count": 19,
   "id": "78178410-fec6-46bf-90c9-2dfd7e8e4332",
   "metadata": {},
   "outputs": [
    {
     "data": {
      "text/plain": [
       "array([0., 0., 0., 0., 0., 0., 0., 0., 0., 0., 0., 0., 0., 0., 0., 0., 0.,\n",
       "       0., 0., 0.])"
      ]
     },
     "execution_count": 19,
     "metadata": {},
     "output_type": "execute_result"
    }
   ],
   "source": [
    "# creating an array where all values are zero (where all values are zero)\n",
    "np.zeros(20) # one dimensional (scaler)"
   ]
  },
  {
   "cell_type": "code",
   "execution_count": 20,
   "id": "397db971-b949-4627-bf4c-843e561edf58",
   "metadata": {},
   "outputs": [
    {
     "data": {
      "text/plain": [
       "array([[0., 0., 0., 0., 0.],\n",
       "       [0., 0., 0., 0., 0.],\n",
       "       [0., 0., 0., 0., 0.],\n",
       "       [0., 0., 0., 0., 0.]])"
      ]
     },
     "execution_count": 20,
     "metadata": {},
     "output_type": "execute_result"
    }
   ],
   "source": [
    "np.zeros((4,5)) # two dimentional (matrix) 4 rows, 5 columns"
   ]
  },
  {
   "cell_type": "code",
   "execution_count": 21,
   "id": "986aec58-a697-442c-8004-58ed3bd962b1",
   "metadata": {},
   "outputs": [
    {
     "data": {
      "text/plain": [
       "array([1., 1., 1., 1., 1., 1., 1., 1., 1., 1., 1., 1., 1., 1., 1., 1., 1.,\n",
       "       1., 1., 1., 1., 1., 1., 1., 1., 1., 1., 1., 1., 1., 1., 1., 1., 1.,\n",
       "       1., 1., 1., 1., 1., 1., 1., 1., 1., 1., 1., 1., 1., 1., 1., 1., 1.,\n",
       "       1., 1., 1., 1., 1., 1., 1., 1., 1.])"
      ]
     },
     "execution_count": 21,
     "metadata": {},
     "output_type": "execute_result"
    }
   ],
   "source": [
    "# creating an array where all values are one\n",
    "np.ones(60)"
   ]
  },
  {
   "cell_type": "code",
   "execution_count": 22,
   "id": "5cad10b9-5c3a-4d1a-902f-0ce5ffb15e97",
   "metadata": {},
   "outputs": [
    {
     "data": {
      "text/plain": [
       "array([[1., 1., 1., 1., 1.],\n",
       "       [1., 1., 1., 1., 1.],\n",
       "       [1., 1., 1., 1., 1.],\n",
       "       [1., 1., 1., 1., 1.],\n",
       "       [1., 1., 1., 1., 1.]])"
      ]
     },
     "execution_count": 22,
     "metadata": {},
     "output_type": "execute_result"
    }
   ],
   "source": [
    "np.ones((5,5))"
   ]
  },
  {
   "cell_type": "code",
   "execution_count": 24,
   "id": "f23797b0-5b7f-4943-a762-e22eeb0fa186",
   "metadata": {},
   "outputs": [
    {
     "data": {
      "text/plain": [
       "array([[15., 15., 15., 15., 15.],\n",
       "       [15., 15., 15., 15., 15.],\n",
       "       [15., 15., 15., 15., 15.],\n",
       "       [15., 15., 15., 15., 15.],\n",
       "       [15., 15., 15., 15., 15.]])"
      ]
     },
     "execution_count": 24,
     "metadata": {},
     "output_type": "execute_result"
    }
   ],
   "source": [
    "np.ones((5,5)) * 15 # NB to create an array with any value e.g 15, you simply multiply ones by the value"
   ]
  },
  {
   "cell_type": "code",
   "execution_count": 25,
   "id": "d2d11ce7-69db-4f32-b63c-e3eda27e6a50",
   "metadata": {},
   "outputs": [
    {
     "data": {
      "text/plain": [
       "array([20.        , 21.02040816, 22.04081633, 23.06122449, 24.08163265,\n",
       "       25.10204082, 26.12244898, 27.14285714, 28.16326531, 29.18367347,\n",
       "       30.20408163, 31.2244898 , 32.24489796, 33.26530612, 34.28571429,\n",
       "       35.30612245, 36.32653061, 37.34693878, 38.36734694, 39.3877551 ,\n",
       "       40.40816327, 41.42857143, 42.44897959, 43.46938776, 44.48979592,\n",
       "       45.51020408, 46.53061224, 47.55102041, 48.57142857, 49.59183673,\n",
       "       50.6122449 , 51.63265306, 52.65306122, 53.67346939, 54.69387755,\n",
       "       55.71428571, 56.73469388, 57.75510204, 58.7755102 , 59.79591837,\n",
       "       60.81632653, 61.83673469, 62.85714286, 63.87755102, 64.89795918,\n",
       "       65.91836735, 66.93877551, 67.95918367, 68.97959184, 70.        ])"
      ]
     },
     "execution_count": 25,
     "metadata": {},
     "output_type": "execute_result"
    }
   ],
   "source": [
    "# Linspace: is creating arrays that are evenly spaced spaced over a specified interval\n",
    "np.linspace(20,70)"
   ]
  },
  {
   "cell_type": "code",
   "execution_count": 27,
   "id": "4bd2934e-4f61-4d8b-9fbb-a4978f80ccaf",
   "metadata": {},
   "outputs": [
    {
     "data": {
      "text/plain": [
       "array([[1., 0., 0., 0., 0., 0.],\n",
       "       [0., 1., 0., 0., 0., 0.],\n",
       "       [0., 0., 1., 0., 0., 0.],\n",
       "       [0., 0., 0., 1., 0., 0.],\n",
       "       [0., 0., 0., 0., 1., 0.],\n",
       "       [0., 0., 0., 0., 0., 1.]])"
      ]
     },
     "execution_count": 27,
     "metadata": {},
     "output_type": "execute_result"
    }
   ],
   "source": [
    "# eye will create 2 dimensional array having zero elswhere and one on the diagonal\n",
    "np.eye(6)"
   ]
  },
  {
   "cell_type": "code",
   "execution_count": 30,
   "id": "ca97a750-0291-4960-83c0-3e2a26e5c710",
   "metadata": {},
   "outputs": [
    {
     "data": {
      "text/plain": [
       "array([  1,   2,   3,   4,   5,   6,   7,   8,   9,  10,  11,  12,  13,\n",
       "        14,  15,  16,  17,  18,  19,  20,  21,  22,  23,  24,  25,  26,\n",
       "        27,  28,  29,  30,  31,  32,  33,  34,  35,  36,  37,  38,  39,\n",
       "        40,  41,  42,  43,  44,  45,  46,  47,  48,  49,  50,  51,  52,\n",
       "        53,  54,  55,  56,  57,  58,  59,  60,  61,  62,  63,  64,  65,\n",
       "        66,  67,  68,  69,  70,  71,  72,  73,  74,  75,  76,  77,  78,\n",
       "        79,  80,  81,  82,  83,  84,  85,  86,  87,  88,  89,  90,  91,\n",
       "        92,  93,  94,  95,  96,  97,  98,  99, 100])"
      ]
     },
     "execution_count": 30,
     "metadata": {},
     "output_type": "execute_result"
    }
   ],
   "source": [
    "# array range \n",
    "arr4 = np.arange(1,101) # creating an array ranging from 1 to 100\n",
    "arr4"
   ]
  },
  {
   "cell_type": "code",
   "execution_count": 31,
   "id": "88d71398-01a9-4d66-9c36-0e61ec135301",
   "metadata": {},
   "outputs": [
    {
     "data": {
      "text/plain": [
       "array([ 1,  6, 11, 16, 21, 26, 31, 36, 41, 46, 51, 56, 61, 66, 71, 76, 81,\n",
       "       86, 91, 96])"
      ]
     },
     "execution_count": 31,
     "metadata": {},
     "output_type": "execute_result"
    }
   ],
   "source": [
    "arr4 = np.arange(1,101,5) # # creating an array ranging from 1 to 100, with an interval of 5\n",
    "arr4"
   ]
  },
  {
   "cell_type": "code",
   "execution_count": 32,
   "id": "fd010f7f-9970-4604-bc90-0e3bd39a9fa9",
   "metadata": {},
   "outputs": [
    {
     "data": {
      "text/plain": [
       "55"
      ]
     },
     "execution_count": 32,
     "metadata": {},
     "output_type": "execute_result"
    }
   ],
   "source": [
    "arr5 = np.random.randint(15,105) # generate a random number starting from 15 to stop at 104\n",
    "arr5"
   ]
  },
  {
   "cell_type": "code",
   "execution_count": 34,
   "id": "cb4b2acd-dea3-40ab-844d-982f9c34bfee",
   "metadata": {},
   "outputs": [
    {
     "data": {
      "text/plain": [
       "array([101,  78,  65,  24,  77,  31,  29,  94,  90,  63,  53,  74,  24,\n",
       "        51,  26, 102,  44, 103,  66,  85,  25,  51, 100,  15,  66,  46,\n",
       "       102,  56,  47,  86,  63,  97,  72, 104,  26,  65,  55,  54,  37,\n",
       "        49,  32,  19,  54,  48,  74,  22,  82,  36,  99,  85,  60,  63,\n",
       "        59,  68,  15,  50,  59,  66,  17,  50, 103,  38,  25,  91,  52,\n",
       "        55,  28,  67,  58,  84,  40,  37,  44,  39,  32,  69,  43,  46,\n",
       "        72, 104,  56,  24,  84,  33,  96,  71, 100,  74,  97,  40,  62,\n",
       "        80,  89,  47,  43,  82,  55, 102,  17,  44])"
      ]
     },
     "execution_count": 34,
     "metadata": {},
     "output_type": "execute_result"
    }
   ],
   "source": [
    "arr5 = np.random.randint(15,105,100) # generate 100 random number starting from 15 to stop at 104. NB the the amount of numbers to generate comes,\n",
    "arr5 # at the end"
   ]
  },
  {
   "cell_type": "code",
   "execution_count": 35,
   "id": "2d481987-7a68-4e61-a50e-3e14fb9bcbcb",
   "metadata": {},
   "outputs": [
    {
     "data": {
      "text/plain": [
       "array([ 93,  76,  31,  88,  23,  77,  42,  45,  95,  22,  91,  30,  68,\n",
       "        95,  42,  59,  92,  90,  80,  62,  45,  99, 101,  33,  24,  56,\n",
       "        77,  16,  97,  31,  93,  20,  73,  15,  95,  19,  51,  66,  42,\n",
       "        46,  17,  83,  53,  98,  34,  33,  22,  45,  77,  26,  82,  80,\n",
       "        70,  18,  93,  42,  44,  48, 104, 100,  22,  31,  29,  46,  24,\n",
       "        53,  62,  31,  20,  49,  60,  74,  39,  28,  46,  47,  91,  59,\n",
       "        20,  29,  62,  97,  15,  22, 101,  31,  79,  23,  59,  52,  90,\n",
       "        20,  37,  67,  84,  97,  75,  44, 103,  94])"
      ]
     },
     "execution_count": 35,
     "metadata": {},
     "output_type": "execute_result"
    }
   ],
   "source": [
    "np.random.seed(5)\n",
    "arr5 = np.random.randint(15,105,100)\n",
    "arr5"
   ]
  },
  {
   "cell_type": "code",
   "execution_count": 36,
   "id": "91329c1a-2663-4824-a774-5db316800f8b",
   "metadata": {},
   "outputs": [
    {
     "data": {
      "text/plain": [
       "array([[ 93,  76,  31,  88,  23,  77,  42,  45,  95,  22],\n",
       "       [ 91,  30,  68,  95,  42,  59,  92,  90,  80,  62],\n",
       "       [ 45,  99, 101,  33,  24,  56,  77,  16,  97,  31],\n",
       "       [ 93,  20,  73,  15,  95,  19,  51,  66,  42,  46],\n",
       "       [ 17,  83,  53,  98,  34,  33,  22,  45,  77,  26],\n",
       "       [ 82,  80,  70,  18,  93,  42,  44,  48, 104, 100],\n",
       "       [ 22,  31,  29,  46,  24,  53,  62,  31,  20,  49],\n",
       "       [ 60,  74,  39,  28,  46,  47,  91,  59,  20,  29],\n",
       "       [ 62,  97,  15,  22, 101,  31,  79,  23,  59,  52],\n",
       "       [ 90,  20,  37,  67,  84,  97,  75,  44, 103,  94]])"
      ]
     },
     "execution_count": 36,
     "metadata": {},
     "output_type": "execute_result"
    }
   ],
   "source": [
    "arr6 = arr5.reshape(10,10) # to convert OneD to TwoD, from scaler to matrix, use reshape with 10 rows , 10 columns\n",
    "arr6 "
   ]
  },
  {
   "cell_type": "code",
   "execution_count": 37,
   "id": "9bbcb068-a0fc-4f5b-99d4-29131d99e57f",
   "metadata": {},
   "outputs": [
    {
     "data": {
      "text/plain": [
       "33"
      ]
     },
     "execution_count": 37,
     "metadata": {},
     "output_type": "execute_result"
    }
   ],
   "source": [
    "arr6[4,5] # To select a particular value  from the table, youb target the particular row and column, start coumting from zero."
   ]
  },
  {
   "cell_type": "code",
   "execution_count": 38,
   "id": "fdd7a149-e163-4b6b-b23c-32b35659bbd5",
   "metadata": {},
   "outputs": [
    {
     "data": {
      "text/plain": [
       "array([[15, 95, 19],\n",
       "       [98, 34, 33],\n",
       "       [18, 93, 42],\n",
       "       [46, 24, 53]])"
      ]
     },
     "execution_count": 38,
     "metadata": {},
     "output_type": "execute_result"
    }
   ],
   "source": [
    "# selecting range of values from TwoD array. count from starting row - stopping row and same with column\n",
    "arr6[3:7,3:6] #NB in pyhton always select one additional number to yout]r stopping row/column to return desired outcome."
   ]
  },
  {
   "cell_type": "code",
   "execution_count": 39,
   "id": "6350236f-5067-47a4-aebf-257824327f0b",
   "metadata": {},
   "outputs": [
    {
     "data": {
      "text/plain": [
       "array([[ 93,  76,  31,  88,  23,  77,  42,  45,  95,  22],\n",
       "       [ 91,  30,  68,  95,  42,  59,  92,  90,  80,  62],\n",
       "       [ 45,  99, 101,  33,  24,  56,  77,  16,  97,  31],\n",
       "       [ 93,  20,  73, 100, 100, 100,  51,  66,  42,  46],\n",
       "       [ 17,  83,  53, 100, 100, 100,  22,  45,  77,  26],\n",
       "       [ 82,  80,  70, 100, 100, 100,  44,  48, 104, 100],\n",
       "       [ 22,  31,  29, 100, 100, 100,  62,  31,  20,  49],\n",
       "       [ 60,  74,  39,  28,  46,  47,  91,  59,  20,  29],\n",
       "       [ 62,  97,  15,  22, 101,  31,  79,  23,  59,  52],\n",
       "       [ 90,  20,  37,  67,  84,  97,  75,  44, 103,  94]])"
      ]
     },
     "execution_count": 39,
     "metadata": {},
     "output_type": "execute_result"
    }
   ],
   "source": [
    "# Broadcasting: changing a range of value into one single value\n",
    "arr6[3:7,3:6] = 100\n",
    "arr6"
   ]
  },
  {
   "cell_type": "code",
   "execution_count": 41,
   "id": "2f3c7f27-664d-40d9-b5bc-9419c3f2930f",
   "metadata": {},
   "outputs": [
    {
     "data": {
      "text/plain": [
       "array([ 93,  76,  31,  88,  23,  77,  42,  45,  95,  22,  91,  30,  68,\n",
       "        95,  42,  59,  92,  90,  80,  62,  45,  99, 101,  33,  24,  56,\n",
       "        77,  16,  97,  31,  93,  20,  73, 100, 100, 100,  51,  66,  42,\n",
       "        46,  17,  83,  53, 100, 100, 100,  22,  45,  77,  26,  82,  80,\n",
       "        70, 100, 100, 100,  44,  48, 104, 100,  22,  31,  29, 100, 100,\n",
       "       100,  62,  31,  20,  49,  60,  74,  39,  28,  46,  47,  91,  59,\n",
       "        20,  29,  62,  97,  15,  22, 101,  31,  79,  23,  59,  52,  90,\n",
       "        20,  37,  67,  84,  97,  75,  44, 103,  94])"
      ]
     },
     "execution_count": 41,
     "metadata": {},
     "output_type": "execute_result"
    }
   ],
   "source": [
    "# Return TwoD to OneD: converting 2D to 1D\n",
    "arr7 = arr6.flatten()\n",
    "arr7"
   ]
  },
  {
   "cell_type": "code",
   "execution_count": 42,
   "id": "0a9dcbe4-53de-48b3-a80d-3e43c8a1fec0",
   "metadata": {},
   "outputs": [
    {
     "data": {
      "text/plain": [
       "6311"
      ]
     },
     "execution_count": 42,
     "metadata": {},
     "output_type": "execute_result"
    }
   ],
   "source": [
    "np.sum(arr7)"
   ]
  },
  {
   "cell_type": "code",
   "execution_count": 43,
   "id": "3aa7e87b-8c0f-4eaf-9c56-3c2f6918c5b7",
   "metadata": {},
   "outputs": [
    {
     "data": {
      "text/plain": [
       "104"
      ]
     },
     "execution_count": 43,
     "metadata": {},
     "output_type": "execute_result"
    }
   ],
   "source": [
    "np.max(arr7)"
   ]
  },
  {
   "cell_type": "code",
   "execution_count": 44,
   "id": "59f34328-bdb7-4058-9bbf-f93b7720e0f8",
   "metadata": {},
   "outputs": [
    {
     "data": {
      "text/plain": [
       "15"
      ]
     },
     "execution_count": 44,
     "metadata": {},
     "output_type": "execute_result"
    }
   ],
   "source": [
    "np.min(arr7)"
   ]
  },
  {
   "cell_type": "code",
   "execution_count": 49,
   "id": "9110db10-afce-4a61-a28a-5c70138aa467",
   "metadata": {},
   "outputs": [
    {
     "data": {
      "text/plain": [
       "29.115252016769492"
      ]
     },
     "execution_count": 49,
     "metadata": {},
     "output_type": "execute_result"
    }
   ],
   "source": [
    "np.std(arr7)"
   ]
  },
  {
   "cell_type": "code",
   "execution_count": 50,
   "id": "076e1b43-cdb3-4188-ada1-36e68d551077",
   "metadata": {},
   "outputs": [
    {
     "data": {
      "text/plain": [
       "63.11"
      ]
     },
     "execution_count": 50,
     "metadata": {},
     "output_type": "execute_result"
    }
   ],
   "source": [
    "np.mean(arr7)"
   ]
  },
  {
   "cell_type": "code",
   "execution_count": 52,
   "id": "09dcfecf-629e-4f69-be62-79444c387ee6",
   "metadata": {},
   "outputs": [
    {
     "data": {
      "text/plain": [
       "62.0"
      ]
     },
     "execution_count": 52,
     "metadata": {},
     "output_type": "execute_result"
    }
   ],
   "source": [
    "np.percentile(arr7,50)"
   ]
  },
  {
   "cell_type": "code",
   "execution_count": 55,
   "id": "41bfb9f3-6444-49d6-9784-fd9ce0134781",
   "metadata": {},
   "outputs": [
    {
     "data": {
      "text/plain": [
       "58"
      ]
     },
     "execution_count": 55,
     "metadata": {},
     "output_type": "execute_result"
    }
   ],
   "source": [
    "np.argmax(arr7) # getting the index location of the first maximun value"
   ]
  },
  {
   "cell_type": "code",
   "execution_count": null,
   "id": "94eda59f-e304-417a-9482-d3199adc595b",
   "metadata": {},
   "outputs": [],
   "source": [
    "Domain knowledge\n",
    "Communication Skills\n",
    "Problem_Solving and Critical Thinking\n",
    "Collaboration and Teamwork\n",
    "Ethics and Data Privacy\n",
    "Project Management\n",
    "Business Acumen\n",
    "Adaptability and Continious learning\n",
    "The Art ofcommunication \n",
    "Tailoring Communication to Your Audiance\n",
    "Persuassive Communication\n",
    "Mastering Visualization Tools\n",
    "Choosing the right Visuals\n",
    "Design Principles\n",
    "Data Storytelling and Contex\n",
    "Emotional Intellegence in communication\n",
    "Visual Storytelling\n",
    "Using Dashboards Effectively\n",
    "Infographics and Interactive Reports\n",
    "Simplifying Complex Data\n",
    "Use of Analogies and Metaphors\n",
    "Speaking the Language of Business\n",
    "Collaborative Tools\n",
    "Visualization Ethics\n",
    "Avoiding Misleading Graphs\n",
    "Transparency\n",
    "Learning from Feedback\n",
    "Continuous Improvement\n",
    "\n",
    "DATA SCIENCE\n",
    "\n",
    "Descriptive Statistics\n",
    "Inferential Statistics\n",
    "Probability Distributions\n",
    "Central Limit Theorem\n",
    "Hypothesis Testing\n",
    "P-values and Significance Levels\n",
    "Confidence Intervals\n",
    "Correlation and Causation\n",
    "Regression Analysis\n",
    "Sampling Methods\n",
    "Bias and Variance\n",
    "Outliers and their Impact\n",
    "T-tests and Z-tests\n",
    "ANOVA (Analysis of Variance)\n",
    "Data Normalization"
   ]
  }
 ],
 "metadata": {
  "kernelspec": {
   "display_name": "Python 3 (ipykernel)",
   "language": "python",
   "name": "python3"
  },
  "language_info": {
   "codemirror_mode": {
    "name": "ipython",
    "version": 3
   },
   "file_extension": ".py",
   "mimetype": "text/x-python",
   "name": "python",
   "nbconvert_exporter": "python",
   "pygments_lexer": "ipython3",
   "version": "3.11.7"
  }
 },
 "nbformat": 4,
 "nbformat_minor": 5
}
